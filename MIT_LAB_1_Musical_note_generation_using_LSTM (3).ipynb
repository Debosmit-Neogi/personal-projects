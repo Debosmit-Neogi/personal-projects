{
  "nbformat": 4,
  "nbformat_minor": 0,
  "metadata": {
    "colab": {
      "name": "MIT LAB 1-Musical note generation using LSTM",
      "provenance": [],
      "collapsed_sections": []
    },
    "kernelspec": {
      "name": "python3",
      "display_name": "Python 3"
    },
    "accelerator": "GPU"
  },
  "cells": [
    {
      "cell_type": "code",
      "metadata": {
        "id": "Ov6SXPNqlC-0"
      },
      "source": [
        "%tensorflow_version 2.x\n"
      ],
      "execution_count": null,
      "outputs": []
    },
    {
      "cell_type": "code",
      "metadata": {
        "id": "uThbjrgcmYlo"
      },
      "source": [
        "import tensorflow as tf\n",
        "import numpy as np\n",
        "import pandas as pd\n",
        "import matplotlib.pyplot as plt"
      ],
      "execution_count": null,
      "outputs": []
    },
    {
      "cell_type": "code",
      "metadata": {
        "id": "f4L_cCOvmjUJ"
      },
      "source": [
        "!pip install mitdeeplearning"
      ],
      "execution_count": null,
      "outputs": []
    },
    {
      "cell_type": "code",
      "metadata": {
        "id": "4lFulsjvmojn"
      },
      "source": [
        "import mitdeeplearning as mdl"
      ],
      "execution_count": null,
      "outputs": []
    },
    {
      "cell_type": "code",
      "metadata": {
        "id": "xS1i2JkKmurj"
      },
      "source": [
        "#import other important packages\n",
        "import os\n",
        "import time\n",
        "import functools\n",
        "from IPython import display as ipythondisplay\n",
        "from tqdm import tqdm #to dispaly the progress\n"
      ],
      "execution_count": null,
      "outputs": []
    },
    {
      "cell_type": "code",
      "metadata": {
        "id": "oGiGgO3JogNe"
      },
      "source": [
        "!apt-get install abcmidi timidity > /dev/null 2>&1  #abcMIDI is a package of programs developed by James Allwright for processing ABC music notation files"
      ],
      "execution_count": null,
      "outputs": []
    },
    {
      "cell_type": "code",
      "metadata": {
        "id": "PxRbG66jo6Ju"
      },
      "source": [
        "# Check that we are using a GPU, if not switch runtimes\n",
        "#   using Runtime > Change Runtime Type > GPU\n",
        "assert len(tf.config.list_physical_devices('GPU')) > 0"
      ],
      "execution_count": null,
      "outputs": []
    },
    {
      "cell_type": "markdown",
      "metadata": {
        "id": "g6FQgICop1Rm"
      },
      "source": [
        "Download The Dataset-   collection of thousands of Irish folklore"
      ]
    },
    {
      "cell_type": "code",
      "metadata": {
        "id": "bk7JcIHXpeRe",
        "colab": {
          "base_uri": "https://localhost:8080/"
        },
        "outputId": "132eb729-eec7-488f-8814-55b1cea5af0e"
      },
      "source": [
        "songs = mdl.lab1.load_training_data()"
      ],
      "execution_count": null,
      "outputs": [
        {
          "output_type": "stream",
          "text": [
            "Found 816 songs in text\n"
          ],
          "name": "stdout"
        }
      ]
    },
    {
      "cell_type": "code",
      "metadata": {
        "id": "vaQee92Up_19"
      },
      "source": [
        "example_song = songs[0]\n",
        "print(\"\\nExample song: \")\n",
        "print(example_song)"
      ],
      "execution_count": null,
      "outputs": []
    },
    {
      "cell_type": "code",
      "metadata": {
        "id": "rNl12nXvqD-N"
      },
      "source": [
        "# Convert the ABC notation to audio file and listen to it\n",
        "mdl.lab1.play_song(example_song)"
      ],
      "execution_count": null,
      "outputs": []
    },
    {
      "cell_type": "code",
      "metadata": {
        "id": "lJEXvDOtqPtd",
        "colab": {
          "base_uri": "https://localhost:8080/"
        },
        "outputId": "6e03379a-bf43-48c4-c3b3-42f45f83c53d"
      },
      "source": [
        "# Join our list of song strings into a single string containing all songs\n",
        "songs_joined = \"\\n\\n\".join(songs) \n",
        "\n",
        "#Find all unique character from the joined strings\n",
        "unique_vocab=list(set(songs_joined))\n",
        "print(\"Number of unique characters from the combined songs={}\".format(len(unique_vocab)))"
      ],
      "execution_count": null,
      "outputs": [
        {
          "output_type": "stream",
          "text": [
            "Number of unique characters from the combined songs=83\n"
          ],
          "name": "stdout"
        }
      ]
    },
    {
      "cell_type": "markdown",
      "metadata": {
        "id": "qixZCJGEw-TU"
      },
      "source": [
        "Vectorize the text\n"
      ]
    },
    {
      "cell_type": "code",
      "metadata": {
        "id": "HTZNgPbKqqox"
      },
      "source": [
        "### Define numerical representation of text ###\n",
        "\n",
        "# Create a mapping from character to unique index.\n",
        "# For example, to get the index of the character \"d\", \n",
        "#   we can evaluate `char2idx[\"d\"]`.\n",
        "\n",
        "char2idx={u:i for i,u in enumerate(unique_vocab)}\n",
        "\n",
        "# Create a mapping from indices to characters. This is\n",
        "#   the inverse of char2idx and allows us to convert back\n",
        "#   from unique index to the character in our vocabulary.\n",
        "\n",
        "idx2char=np.array(unique_vocab)"
      ],
      "execution_count": null,
      "outputs": []
    },
    {
      "cell_type": "code",
      "metadata": {
        "id": "x0cWGbGgmdM_"
      },
      "source": [
        "print('{')\n",
        "for char,_ in zip(char2idx, range(20)):\n",
        "    print('  {:4s}: {:3d},'.format(repr(char), char2idx[char]))\n",
        "print('  ...\\n}')"
      ],
      "execution_count": null,
      "outputs": []
    },
    {
      "cell_type": "code",
      "metadata": {
        "id": "6S6Aipmlxjn9"
      },
      "source": [
        "#Vectorize the song joined in he form of string\n",
        "def vectorize_string(string):\n",
        "  vectorized_output = np.array([char2idx[char] for char in string])\n",
        "  # for char in string:\n",
        "  #   vectorized_output=np.array(char2idx[char])\n",
        "  return vectorized_output\n",
        "\n",
        "vectorized_song=vectorize_string(songs_joined)"
      ],
      "execution_count": null,
      "outputs": []
    },
    {
      "cell_type": "code",
      "metadata": {
        "id": "cI4OezgsnETp"
      },
      "source": [
        "print ('{} ---- characters mapped to int ----> {}'.format(repr(songs_joined[:10]), vectorized_song[:10]))\n",
        "# check that vectorized_songs is a numpy array\n",
        "assert isinstance(vectorized_song, np.ndarray), \"returned result should be a numpy array\""
      ],
      "execution_count": null,
      "outputs": []
    },
    {
      "cell_type": "markdown",
      "metadata": {
        "id": "b6glKZd151JH"
      },
      "source": [
        "Create Training examples and targets"
      ]
    },
    {
      "cell_type": "code",
      "metadata": {
        "id": "b1Wohw0-1c7d"
      },
      "source": [
        "#batch definition and creating training examples\n",
        "\n",
        "def get_batch(vectorized_song,seq_length,batch_size):\n",
        "  n=vectorized_song.shape[0]-1  #length of vectorized songs length\n",
        "  # randomly choose the starting indices for the examples in the training batch\n",
        "  idx=np.random.choice(n-seq_length,batch_size)\n",
        "\n",
        "  #List of input sequence for training batch\n",
        "  \n",
        "  input_batch=[vectorized_song[i:i+seq_length] for i in idx]\n",
        "\n",
        "  # List of output sequence for training batch\n",
        "\n",
        "  output_batch=[vectorized_song[i+1:i+seq_length+1] for i in idx]\n",
        "\n",
        "  #Create x_batch and y_batch\n",
        "  x_batch=np.reshape(input_batch,[batch_size,seq_length]) #true input for the network training\n",
        "  y_batch=np.reshape(output_batch,[batch_size,seq_length]) #true target for network training\n",
        "  return x_batch,y_batch"
      ],
      "execution_count": null,
      "outputs": []
    },
    {
      "cell_type": "code",
      "metadata": {
        "id": "AedXK5AvxPj3"
      },
      "source": [
        "x_batch, y_batch = get_batch(vectorized_song, seq_length=5, batch_size=1)\n",
        "\n",
        "for i, (input_idx, target_idx) in enumerate(zip(np.squeeze(x_batch), np.squeeze(y_batch))):\n",
        "    print(\"Step {:3d}\".format(i))\n",
        "    print(\"  input: {} ({:s})\".format(input_idx, repr(idx2char[input_idx])))\n",
        "    print(\"  expected output: {} ({:s})\".format(target_idx, repr(idx2char[target_idx])))"
      ],
      "execution_count": null,
      "outputs": []
    },
    {
      "cell_type": "code",
      "metadata": {
        "id": "_HOyeTw3mBes"
      },
      "source": [
        "x_batch, y_batch = get_batch(vectorized_song, seq_length=5, batch_size=1)\n",
        "\n",
        "for i, (input_idx, target_idx) in enumerate(zip(np.squeeze(x_batch), np.squeeze(y_batch))):\n",
        "    print(\"Step {:3d}\".format(i))\n",
        "    print(\"  input: {} ({:s})\".format(input_idx, repr(idx2char[input_idx])))\n",
        "    print(\"  expected output: {} ({:s})\".format(target_idx, repr(idx2char[target_idx])))"
      ],
      "execution_count": null,
      "outputs": []
    },
    {
      "cell_type": "markdown",
      "metadata": {
        "id": "lbL8YyQiqvMX"
      },
      "source": [
        "THE RNN MODEL BASED ON LSTM ARCHITECTURE"
      ]
    },
    {
      "cell_type": "code",
      "metadata": {
        "id": "MXg_U9KtpvqD"
      },
      "source": [
        "def LSTM(rnn_units): \n",
        "  return tf.keras.layers.LSTM(\n",
        "    rnn_units, \n",
        "    return_sequences=True, \n",
        "    recurrent_initializer='glorot_uniform',\n",
        "    recurrent_activation='sigmoid',\n",
        "    stateful=True,\n",
        "  )"
      ],
      "execution_count": null,
      "outputs": []
    },
    {
      "cell_type": "markdown",
      "metadata": {
        "id": "dzs8P1rC1azz"
      },
      "source": [
        "DEFINING THE RNN MODEL"
      ]
    },
    {
      "cell_type": "code",
      "metadata": {
        "id": "hb1UrLhtrGQh"
      },
      "source": [
        "def build_model(vocab_size, embedding_dim, rnn_units, batch_size):\n",
        "  model =tf.keras.Sequential([\n",
        "  # Layer 1: Embedding layer to transform indices into dense vectors \n",
        "  #   of a fixed embedding size\n",
        "  tf.keras.layers.Embedding(vocab_size, embedding_dim, batch_input_shape=[batch_size, None]),\n",
        "  # Layer 2: LSTM with `rnn_units` number of units.\n",
        "  LSTM(rnn_units),\n",
        "  # Layer 3: Dense (fully-connected) layer that transforms the LSTM output\n",
        "    #   into the vocabulary size. \n",
        "  tf.keras.layers.Dense(vocab_size)\n",
        "\n",
        "  ])\n",
        "  return model"
      ],
      "execution_count": null,
      "outputs": []
    },
    {
      "cell_type": "code",
      "metadata": {
        "id": "ymhZIZ4J1W9d"
      },
      "source": [
        "## Building model with default hyperparameter\n",
        "model = build_model(len(unique_vocab), embedding_dim=256, rnn_units=1024, batch_size=32)"
      ],
      "execution_count": null,
      "outputs": []
    },
    {
      "cell_type": "markdown",
      "metadata": {
        "id": "hceNDThr17_s"
      },
      "source": [
        "TEST THE MODEL"
      ]
    },
    {
      "cell_type": "code",
      "metadata": {
        "id": "KmyJ-zSJ1nvg",
        "colab": {
          "base_uri": "https://localhost:8080/"
        },
        "outputId": "3fae0f9e-7b1e-4674-f229-c344d0fc1029"
      },
      "source": [
        "model.summary()"
      ],
      "execution_count": null,
      "outputs": [
        {
          "output_type": "stream",
          "text": [
            "Model: \"sequential\"\n",
            "_________________________________________________________________\n",
            "Layer (type)                 Output Shape              Param #   \n",
            "=================================================================\n",
            "embedding (Embedding)        (32, None, 256)           21248     \n",
            "_________________________________________________________________\n",
            "lstm (LSTM)                  (32, None, 1024)          5246976   \n",
            "_________________________________________________________________\n",
            "dense (Dense)                (32, None, 83)            85075     \n",
            "=================================================================\n",
            "Total params: 5,353,299\n",
            "Trainable params: 5,353,299\n",
            "Non-trainable params: 0\n",
            "_________________________________________________________________\n"
          ],
          "name": "stdout"
        }
      ]
    },
    {
      "cell_type": "code",
      "metadata": {
        "id": "2oc8FUTG1-_b"
      },
      "source": [
        "#Testing the model with sequence of input of length 100\n",
        "x, y = get_batch(vectorized_song, seq_length=100, batch_size=32)\n",
        "pred = model(x)\n",
        "print(\"Input shape:      \", x.shape, \" # (batch_size, sequence_length)\")\n",
        "print(\"Prediction shape: \", pred.shape, \"# (batch_size, sequence_length, vocab_size)\")"
      ],
      "execution_count": null,
      "outputs": []
    },
    {
      "cell_type": "markdown",
      "metadata": {
        "id": "-b1plfXF4iCV"
      },
      "source": [
        "PREDICTIONS FROM UNTRAINED MODEL"
      ]
    },
    {
      "cell_type": "code",
      "metadata": {
        "id": "TkV7qPtc2KzQ"
      },
      "source": [
        "sampled_indices = tf.random.categorical(pred[0], num_samples=1)\n",
        "sampled_indices = tf.squeeze(sampled_indices,axis=-1).numpy()\n",
        "sampled_indices"
      ],
      "execution_count": null,
      "outputs": []
    },
    {
      "cell_type": "code",
      "metadata": {
        "id": "El8hhQ9R4ouZ"
      },
      "source": [
        "print(\"Input: \\n\", repr(\"\".join(idx2char[x[0]])))\n",
        "print()\n",
        "print(\"Next Char Predictions: \\n\", repr(\"\".join(idx2char[sampled_indices]))) #predicts some non sense text"
      ],
      "execution_count": null,
      "outputs": []
    },
    {
      "cell_type": "markdown",
      "metadata": {
        "id": "UXsYmbf96IDy"
      },
      "source": [
        "Training the model: loss and training operations"
      ]
    },
    {
      "cell_type": "code",
      "metadata": {
        "id": "5ADRix7d47Rs",
        "colab": {
          "base_uri": "https://localhost:8080/"
        },
        "outputId": "97efbdab-6073-43d8-8bde-7d7f31f2aa05"
      },
      "source": [
        "## Define the loss function\n",
        "def compute_loss(labels, logits):\n",
        "  loss = tf.keras.losses.sparse_categorical_crossentropy(labels, logits, from_logits=True)\n",
        "  return loss\n",
        "example_batch_loss = compute_loss(y, pred)\n",
        "print(\"Prediction shape: \", pred.shape, \" # (batch_size, sequence_length, vocab_size)\") \n",
        "print(\"scalar_loss:      \", example_batch_loss.numpy().mean())"
      ],
      "execution_count": null,
      "outputs": [
        {
          "output_type": "stream",
          "text": [
            "Prediction shape:  (32, 100, 83)  # (batch_size, sequence_length, vocab_size)\n",
            "scalar_loss:       4.419285\n"
          ],
          "name": "stdout"
        }
      ]
    },
    {
      "cell_type": "markdown",
      "metadata": {
        "id": "xi3RmfsZMDJm"
      },
      "source": [
        "HYPER PARAMETER TUNING AND OPTIMIZATION"
      ]
    },
    {
      "cell_type": "code",
      "metadata": {
        "id": "zUCpka2oKA3R"
      },
      "source": [
        "# Optimization parameters:\n",
        "num_training_iterations = 2000  # Increase this to train longer\n",
        "batch_size = 4  # Experiment between 1 and 64\n",
        "seq_length = 100  # Experiment between 50 and 500\n",
        "learning_rate = 5e-3  # Experiment between 1e-5 and 1e-1\n"
      ],
      "execution_count": null,
      "outputs": []
    },
    {
      "cell_type": "code",
      "metadata": {
        "id": "Vcibf6j8M7Q3"
      },
      "source": [
        "# Model parameters: \n",
        "vocab_size = len(unique_vocab)\n",
        "embedding_dim = 256 \n",
        "rnn_units = 1024  # Experiment between 1 and 2048\n"
      ],
      "execution_count": null,
      "outputs": []
    },
    {
      "cell_type": "code",
      "metadata": {
        "id": "ZoVfglYtNAg6"
      },
      "source": [
        "# Checkpoint location: \n",
        "checkpoint_dir = './training_checkpoints'\n",
        "checkpoint_prefix = os.path.join(checkpoint_dir, \"my_ckpt\")"
      ],
      "execution_count": null,
      "outputs": []
    },
    {
      "cell_type": "code",
      "metadata": {
        "id": "YjGd8JmMNDP8"
      },
      "source": [
        "#Optimisers\n",
        "model = build_model(vocab_size, embedding_dim, rnn_units, batch_size)\n",
        "optimizer = tf.keras.optimizers.Adam(learning_rate)"
      ],
      "execution_count": null,
      "outputs": []
    },
    {
      "cell_type": "code",
      "metadata": {
        "id": "rfsTEKEWcEsn"
      },
      "source": [
        "#Train the model\n",
        "def train_step(x,y):\n",
        "  with tf.GradientTape() as tape:\n",
        "    y_hat=model(x) #feed the input into the model to predict\n",
        "    \n",
        "    #compute loss:\n",
        "    loss=compute_loss(y,y_hat)\n",
        "  \n",
        "  #compute the gradient\n",
        "  grads=tape.gradient(loss, model.trainable_variables)\n",
        "\n",
        "  # Apply the gradients to the optimizer so it can update the model accordingly\n",
        "  optimizer.apply_gradients(zip(grads, model.trainable_variables))\n",
        "  return loss\n",
        "\n"
      ],
      "execution_count": null,
      "outputs": []
    },
    {
      "cell_type": "code",
      "metadata": {
        "id": "WavqgUpQeRE5",
        "colab": {
          "base_uri": "https://localhost:8080/",
          "height": 558
        },
        "outputId": "3603e608-4254-48bb-ece2-816aee62de29"
      },
      "source": [
        "##################\n",
        "# Begin training!#\n",
        "##################\n",
        "\n",
        "history = []\n",
        "plotter = mdl.util.PeriodicPlotter(sec=2, xlabel='Iterations', ylabel='Loss')\n",
        "if hasattr(tqdm, '_instances'): tqdm._instances.clear() # clear if it exists\n",
        "\n",
        "for iter in tqdm(range(num_training_iterations)):\n",
        "\n",
        "  # Grab a batch and propagate it through the network\n",
        "  x_batch, y_batch = get_batch(vectorized_song, seq_length, batch_size)\n",
        "  loss = train_step(x_batch, y_batch)\n",
        "\n",
        "  # Update the progress bar\n",
        "  history.append(loss.numpy().mean())\n",
        "  plotter.plot(history)\n",
        "\n",
        "  # Update the model with the changed weights!\n",
        "  if iter % 100 == 0:     \n",
        "    model.save_weights(checkpoint_prefix)"
      ],
      "execution_count": null,
      "outputs": [
        {
          "output_type": "display_data",
          "data": {
            "image/png": "[encoded data removed]",
            "text/plain": [
              "<Figure size 432x288 with 1 Axes>"
            ]
          },
          "metadata": {
            "tags": []
          }
        },
        {
          "output_type": "stream",
          "text": [
            "100%|██████████| 2000/2000 [01:03<00:00, 31.31it/s]\n"
          ],
          "name": "stderr"
        },
        {
          "output_type": "display_data",
          "data": {
            "image/png": "[encoded data removed]",
            "text/plain": [
              "<Figure size 432x288 with 1 Axes>"
            ]
          },
          "metadata": {
            "tags": [],
            "needs_background": "light"
          }
        }
      ]
    },
    {
      "cell_type": "code",
      "metadata": {
        "id": "l3cnht-seZxe"
      },
      "source": [
        "# Save the trained model and the weights\n",
        "model.save_weights(checkpoint_prefix)"
      ],
      "execution_count": null,
      "outputs": []
    },
    {
      "cell_type": "markdown",
      "metadata": {
        "id": "_p0_I3I8gXx1"
      },
      "source": [
        "GENERATE MUSIC USING RNN MODEL"
      ]
    },
    {
      "cell_type": "code",
      "metadata": {
        "id": "RvHPiW_WgKt3"
      },
      "source": [
        "# Rebuild the model with batch_size=1\n",
        "model = build_model(vocab_size, embedding_dim, rnn_units, batch_size=1)\n",
        "# Restore the model weights for the last checkpoint after training\n",
        "model.load_weights(tf.train.latest_checkpoint(checkpoint_dir))\n",
        "model.build(tf.TensorShape([1, None]))\n"
      ],
      "execution_count": null,
      "outputs": []
    },
    {
      "cell_type": "code",
      "metadata": {
        "id": "pf3OnJGshTe5",
        "colab": {
          "base_uri": "https://localhost:8080/"
        },
        "outputId": "4c128e24-60e8-493d-887e-4deb26a27198"
      },
      "source": [
        "model.summary()"
      ],
      "execution_count": null,
      "outputs": [
        {
          "output_type": "stream",
          "text": [
            "Model: \"sequential_2\"\n",
            "_________________________________________________________________\n",
            "Layer (type)                 Output Shape              Param #   \n",
            "=================================================================\n",
            "embedding_2 (Embedding)      (1, None, 256)            21248     \n",
            "_________________________________________________________________\n",
            "lstm_2 (LSTM)                (1, None, 1024)           5246976   \n",
            "_________________________________________________________________\n",
            "dense_2 (Dense)              (1, None, 83)             85075     \n",
            "=================================================================\n",
            "Total params: 5,353,299\n",
            "Trainable params: 5,353,299\n",
            "Non-trainable params: 0\n",
            "_________________________________________________________________\n"
          ],
          "name": "stdout"
        }
      ]
    },
    {
      "cell_type": "markdown",
      "metadata": {
        "id": "QzbF6WIXj2LY"
      },
      "source": [
        "THE PREDICTION PROCEDURE"
      ]
    },
    {
      "cell_type": "code",
      "metadata": {
        "id": "2wlytDjKhVzD"
      },
      "source": [
        "#prediction of a generated song\n",
        "def generate_text(model, start_string, generation_length=1000):\n",
        "  #generating musical text from learned RNN\n",
        "\n",
        "  #vectorize the start string\n",
        "  input_eval = [char2idx[s] for s in start_string]\n",
        "  input_eval = tf.expand_dims(input_eval, 0)\n",
        "  text_generated = [] #empty string to store our result\n",
        "  model.reset_states()\n",
        "  tqdm._instances.clear()\n",
        "\n",
        "  for i in tqdm(range(generation_length)):\n",
        "      ''' evaluate the inputs and generate the next character predictions'''\n",
        "      predictions = model(input_eval)\n",
        "      # Remove the batch dimension\n",
        "      predictions = tf.squeeze(predictions, 0)\n",
        "      \n",
        "      ''' use a multinomial distribution to sample'''\n",
        "      predicted_id = tf.random.categorical(predictions, num_samples=1)[-1,0].numpy()\n",
        "      \n",
        "      # Pass the prediction along with the previous hidden state\n",
        "      #   as the next inputs to the model\n",
        "      input_eval = tf.expand_dims([predicted_id], 0)\n",
        "      \n",
        "      '''add the predicted character to the generated text!'''\n",
        "      # Hint: consider what format the prediction is in vs. the output\n",
        "      text_generated.append(idx2char[predicted_id]) \n",
        "  return (start_string + ''.join(text_generated))\n",
        "\n",
        "\n"
      ],
      "execution_count": null,
      "outputs": []
    },
    {
      "cell_type": "code",
      "metadata": {
        "id": "aeHNphOxmumt"
      },
      "source": [
        "#Use the model and the function defined above to generate ABC format text of length 1000!\n",
        "#As you may notice, ABC files start with \"X\" - this may be a good start string.\n",
        "\n",
        "generated_text = generate_text(model, start_string=\"X\", generation_length=1500)"
      ],
      "execution_count": null,
      "outputs": []
    },
    {
      "cell_type": "markdown",
      "metadata": {
        "id": "V0odSbchnKQN"
      },
      "source": [
        "PLAYBACK THE GENERATED MUSIC"
      ]
    },
    {
      "cell_type": "code",
      "metadata": {
        "id": "p4En2EEUnQXY"
      },
      "source": [
        "generated_songs = mdl.lab1.extract_song_snippet(generated_text)\n",
        "\n",
        "for i, song in enumerate(generated_songs): \n",
        "  # Synthesize the waveform from a song\n",
        "  waveform = mdl.lab1.play_song(song)\n",
        "\n",
        "  # If its a valid song (correct syntax), lets play it! \n",
        "  if waveform:\n",
        "    print(\"Generated song\", i)\n",
        "    ipythondisplay.display(waveform)"
      ],
      "execution_count": null,
      "outputs": []
    },
    {
      "cell_type": "code",
      "metadata": {
        "id": "GEHjKSGYyVWk"
      },
      "source": [
        ""
      ],
      "execution_count": null,
      "outputs": []
    }
  ]
}